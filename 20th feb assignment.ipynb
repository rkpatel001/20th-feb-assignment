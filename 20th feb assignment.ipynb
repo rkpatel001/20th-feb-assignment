{
 "cells": [
  {
   "cell_type": "code",
   "execution_count": null,
   "id": "ce72c75b-f092-4b26-9ee3-94f2541159a1",
   "metadata": {},
   "outputs": [],
   "source": [
    "# Q1. Explain GET and POST methods.\n",
    "\n",
    "'''Get and Post methods are the HTTP request methods used inside the <form> tag to send form data to the server\n",
    "GET  method is less secure then post methid bcz it's details is visiable in url \n",
    "we can not seen details in POST method '''"
   ]
  },
  {
   "cell_type": "code",
   "execution_count": null,
   "id": "05727b8b-c777-42bb-b29d-0edaffd8c8fe",
   "metadata": {},
   "outputs": [],
   "source": []
  },
  {
   "cell_type": "code",
   "execution_count": null,
   "id": "f53ad85c-484a-4a12-a4dd-6360b0f682e2",
   "metadata": {},
   "outputs": [],
   "source": [
    "# Q2. Why is request used in Flask?\n",
    "\n",
    "\n",
    "'''When the Flask application handles a request, it creates a Request object based on the environment \n",
    "it received from server.\n",
    "\n",
    "request method is use to creat http request and send request to the server'''\n",
    "\n"
   ]
  },
  {
   "cell_type": "code",
   "execution_count": null,
   "id": "377fe661-2150-4cb0-93c4-4cb5eb051743",
   "metadata": {},
   "outputs": [],
   "source": []
  },
  {
   "cell_type": "code",
   "execution_count": null,
   "id": "c7c463ab-a77a-4c05-8836-979e69f8bb6f",
   "metadata": {},
   "outputs": [],
   "source": [
    "# Q3. Why is redirect() used in Flask?\n",
    "\n",
    "'''Flask class has a redirect() function. When called, it returns a response object \n",
    "   and redirects the user to another target location'''"
   ]
  },
  {
   "cell_type": "code",
   "execution_count": null,
   "id": "2fc9d757-a597-44a1-8a2e-7f7a477c60b3",
   "metadata": {},
   "outputs": [],
   "source": []
  },
  {
   "cell_type": "code",
   "execution_count": null,
   "id": "c7bf64e4-0244-411b-9da6-f0892078bb9f",
   "metadata": {},
   "outputs": [],
   "source": [
    "# Q4. What are templates in Flask? Why is the render_template() function used?\n",
    "\n",
    "'''Flask provides us the render_template() function which can be used to render the external HTML file \n",
    "to be returned as the response from the view functio'''"
   ]
  },
  {
   "cell_type": "code",
   "execution_count": null,
   "id": "947b5b46-fefb-46d6-9ba1-6262e97dc888",
   "metadata": {},
   "outputs": [],
   "source": []
  },
  {
   "cell_type": "code",
   "execution_count": null,
   "id": "b1f8d66e-77a8-4a2e-9a87-c225dcd803b6",
   "metadata": {},
   "outputs": [],
   "source": []
  },
  {
   "cell_type": "code",
   "execution_count": null,
   "id": "08e8f1af-4e2c-4e02-96af-8ee089061db1",
   "metadata": {},
   "outputs": [],
   "source": [
    "# Q5. Create a simple API. Use Postman to test it. Attach the screenshot of the output in the Jupyter Notebook."
   ]
  },
  {
   "cell_type": "code",
   "execution_count": null,
   "id": "f2a49e62-8a85-47f0-a31e-db8ebfb264a5",
   "metadata": {},
   "outputs": [],
   "source": [
    "from flask import Flask,render_template,request,jsonify\n",
    "\n",
    "app = Flask(__name__)\n",
    "\n",
    "@app.route('/postman_test',me thod = ['POST'])\n",
    "def test1():\n",
    "    if (request.method=='POST'):\n",
    "        ope = request.json['operation']\n",
    "        num1 = request.json['num1']\n",
    "        num2 = request.json['num2']\n",
    "        if (ope == 'add'):\n",
    "            r = num1+num2\n",
    "            result = \"sum is : \"+r\n",
    "        if (ope == 'add'):\n",
    "            r = num1-num2\n",
    "            result = \"sub is : \"+r\n",
    "        if (ope == 'add'):\n",
    "            r = num1/num2\n",
    "            result = \"divi is : \"+r\n",
    "        if (ope == 'add'):\n",
    "            r = num1*num2\n",
    "            result = \"multi is : \"+r\n",
    "            \n",
    "        return\n",
    "            \n",
    "            \n",
    "            "
   ]
  },
  {
   "cell_type": "code",
   "execution_count": null,
   "id": "6ac989f8-bb7b-4fef-9930-ab1880cf99f2",
   "metadata": {},
   "outputs": [],
   "source": []
  },
  {
   "cell_type": "code",
   "execution_count": null,
   "id": "19841659-98ff-4442-b225-e448c0fd2638",
   "metadata": {},
   "outputs": [],
   "source": []
  }
 ],
 "metadata": {
  "kernelspec": {
   "display_name": "Python 3 (ipykernel)",
   "language": "python",
   "name": "python3"
  },
  "language_info": {
   "codemirror_mode": {
    "name": "ipython",
    "version": 3
   },
   "file_extension": ".py",
   "mimetype": "text/x-python",
   "name": "python",
   "nbconvert_exporter": "python",
   "pygments_lexer": "ipython3",
   "version": "3.10.8"
  }
 },
 "nbformat": 4,
 "nbformat_minor": 5
}
